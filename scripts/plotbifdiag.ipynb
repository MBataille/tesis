{
 "cells": [
  {
   "cell_type": "code",
   "execution_count": 2,
   "metadata": {},
   "outputs": [],
   "source": [
    "import pandas as pd\n",
    "import numpy as np\n",
    "import os\n",
    "\n",
    "import matplotlib.pyplot as plt\n",
    "from matplotlib.colors import TABLEAU_COLORS\n",
    "\n",
    "def find_local_extrema(series):\n",
    "    \"\"\"Find local maxima and minima in a pandas Series.\"\"\"\n",
    "    local_maxima = (series.shift(1) < series) & (series.shift(-1) < series)\n",
    "    local_minima = (series.shift(1) > series) & (series.shift(-1) > series)\n",
    "    return local_maxima, local_minima\n",
    "\n",
    "def split_dataframe(df):\n",
    "    \"\"\"Split dataframe into segments of monotonic increasing or decreasing 'eta'.\"\"\"\n",
    "    local_maxima, local_minima = find_local_extrema(df['eta'])\n",
    "    \n",
    "    # Get indices of local maxima and minima\n",
    "    extrema_indices = np.sort(np.concatenate([local_maxima[local_maxima].index, local_minima[local_minima].index]))\n",
    "    \n",
    "    # Split dataframe into segments\n",
    "    segments = []\n",
    "    start_idx = 0\n",
    "    for end_idx in extrema_indices:\n",
    "        segments.append(df.iloc[start_idx:end_idx+1])\n",
    "        start_idx = end_idx + 1\n",
    "    \n",
    "    # Append the last segment\n",
    "    if start_idx < len(df):\n",
    "        segments.append(df.iloc[start_idx:])\n",
    "    \n",
    "    return segments\n",
    "\n",
    "%matplotlib qt\n",
    "# Get the list of .csv files in the data/ folder\n",
    "csv_files = [file for file in os.listdir('data/') if file.endswith('.csv')]\n",
    "\n",
    "# Create an empty list to store the dataframes\n",
    "dataframes = []\n",
    "colors = list(TABLEAU_COLORS)\n",
    "\n",
    "# Import each .csv file into a dataframe and append it to the list\n",
    "for file in csv_files:\n",
    "    if '2' in file: continue\n",
    "    filepath = os.path.join('data/', file)\n",
    "    df = pd.read_csv(filepath)\n",
    "    dataframes.append(df)\n",
    "\n",
    "# Plot all three dataframes\n",
    "for i, df in enumerate(dataframes):\n",
    "    segments = split_dataframe(df)\n",
    "    for segment in segments:\n",
    "        plt.plot(segment['eta'], segment['L2'], color=colors[i])\n",
    "    # plt.plot(df['eta'], (df['L2']), label=f'{csv_files[i][:-4]}')    \n",
    "\n",
    "plt.plot([-1.0, -0.25],[0.0, 0.0], color='black', linestyle='solid')\n",
    "plt.plot([-0.25, 1.0],[0.0, 0.0], color='black', linestyle='dashed')\n",
    "\n",
    "plt.xlim(-0.5, -0.2)\n",
    "plt.ylim(-0.03, 0.55)\n",
    "# plt.vlines(-0.41245, 0, 0.55, linestyles='dashed', colors='r')\n",
    "# plt.legend()\n",
    "plt.show()"
   ]
  },
  {
   "cell_type": "code",
   "execution_count": 36,
   "metadata": {},
   "outputs": [
    {
     "data": {
      "text/plain": [
       "['tab:blue',\n",
       " 'tab:orange',\n",
       " 'tab:green',\n",
       " 'tab:red',\n",
       " 'tab:purple',\n",
       " 'tab:brown',\n",
       " 'tab:pink',\n",
       " 'tab:gray',\n",
       " 'tab:olive',\n",
       " 'tab:cyan']"
      ]
     },
     "execution_count": 36,
     "metadata": {},
     "output_type": "execute_result"
    }
   ],
   "source": [
    "list(TABLEAU_COLORS)"
   ]
  },
  {
   "cell_type": "code",
   "execution_count": 31,
   "metadata": {},
   "outputs": [],
   "source": [
    "df = pd.read_csv(os.path.join('data/', 'LS_sym.csv'))\n",
    "plt.plot(df['eta'])\n",
    "plt.show()"
   ]
  },
  {
   "cell_type": "code",
   "execution_count": 27,
   "metadata": {},
   "outputs": [],
   "source": []
  },
  {
   "cell_type": "code",
   "execution_count": 33,
   "metadata": {},
   "outputs": [],
   "source": [
    "segments = split_dataframe(df)\n",
    "for segment in segments:\n",
    "    plt.plot(segment['eta'], segment['L2'])\n",
    "plt.show()"
   ]
  },
  {
   "cell_type": "code",
   "execution_count": 11,
   "metadata": {},
   "outputs": [],
   "source": [
    "from findiff import FinDiff\n",
    "dx = 0.25\n",
    "d2_dx2 = FinDiff(0, dx, 2)\n",
    "d_dx = FinDiff(0, dx, 1)\n",
    "\n",
    "def free_energy(u, eta, dx=0.25):\n",
    "    dF = - eta * u ** 2 - u ** 4 * 0.5 - d_dx(u) ** 2 + d2_dx2(u) ** 2\n",
    "    return np.sum(dF) / len(dF)"
   ]
  },
  {
   "cell_type": "code",
   "execution_count": null,
   "metadata": {},
   "outputs": [],
   "source": []
  }
 ],
 "metadata": {
  "kernelspec": {
   "display_name": "base",
   "language": "python",
   "name": "python3"
  },
  "language_info": {
   "codemirror_mode": {
    "name": "ipython",
    "version": 3
   },
   "file_extension": ".py",
   "mimetype": "text/x-python",
   "name": "python",
   "nbconvert_exporter": "python",
   "pygments_lexer": "ipython3",
   "version": "3.10.9"
  }
 },
 "nbformat": 4,
 "nbformat_minor": 2
}
