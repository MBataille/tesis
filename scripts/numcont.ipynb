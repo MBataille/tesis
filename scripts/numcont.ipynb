{
 "cells": [
  {
   "cell_type": "code",
   "execution_count": 1,
   "metadata": {},
   "outputs": [],
   "source": [
    "import numpy as np\n",
    "import matplotlib.pyplot as plt"
   ]
  },
  {
   "cell_type": "code",
   "execution_count": 2,
   "metadata": {},
   "outputs": [],
   "source": [
    "epsilon = 0.1\n",
    "\n",
    "def exact_solution():\n",
    "    xs = np.linspace(-.42, .42, 1001)\n",
    "    return xs ** 3 - epsilon * xs, xs\n",
    "\n",
    "etas, xs = exact_solution()\n",
    "\n",
    "def scalar_newton(func, jac, x0, atol=1e-14, max_iter=50, **kwargs):\n",
    "    xi = x0\n",
    "    for n_iter in range(max_iter):\n",
    "        delta = -func(xi, **kwargs) / jac(xi, **kwargs)\n",
    "        xi += delta \n",
    "        if abs(delta) < atol:\n",
    "            return xi\n",
    "        \n",
    "def multi_newton(func, jac, X0, args=(), atol=1e-14, max_iter=50):\n",
    "    xi = X0.copy()\n",
    "    for n_iter in range(max_iter):\n",
    "        # print(np.abs(func(xi, *args)).sum())\n",
    "        delta = -np.linalg.solve(jac(xi, *args), func(xi, *args))\n",
    "        xi += delta\n",
    "        if np.abs(delta).sum() / len(delta) < atol:\n",
    "            return xi\n",
    "\n",
    "def F(x, eta=0):\n",
    "    return eta + epsilon * x - x**3\n",
    "\n",
    "def J(x, eta=0):\n",
    "    return epsilon - 3 * x**2\n",
    "\n",
    "def natural_continuation(etas, x0):\n",
    "    xs = np.zeros_like(etas)\n",
    "    xprev = x0\n",
    "    for k, eta in enumerate(etas):\n",
    "        xs[k] = scalar_newton(F, J, xprev, eta=eta)\n",
    "        xprev = xs[k]\n",
    "    return xs\n",
    "\n",
    "def F_eta(y):\n",
    "    return 1\n",
    "\n",
    "def Ftilda(y, y0, tau0, ds):\n",
    "    x, eta = y\n",
    "    df = eta + epsilon * x - x ** 3\n",
    "    dp = np.dot(y-y0, tau0) - ds\n",
    "    return np.array([df, dp])\n",
    "\n",
    "def Jtilda(y, y0, tau0, ds):\n",
    "    x, eta = y\n",
    "    jac = np.zeros((2, 2))\n",
    "    jac[0, :] = [epsilon - 3 * x ** 2, F_eta(y)]\n",
    "    jac[1, :] = tau0\n",
    "    return jac\n",
    "\n",
    "def get_tangent(y, prev_tau):\n",
    "    x, eta = y\n",
    "    tau = np.array([-F_eta(y) / J(x, eta), 1])\n",
    "    if np.dot(tau, prev_tau) < 0:\n",
    "        tau = - tau\n",
    "    return tau / np.linalg.norm(tau)\n",
    "\n",
    "def pseudo_arclength(eta_span, y0, ds=0.01):\n",
    "    eta0, etaf = eta_span\n",
    "    direction = 1 if etaf > eta0 else -1\n",
    "    tau0 = np.zeros_like(y0)\n",
    "    eta = eta0\n",
    "\n",
    "    y = y0.copy()\n",
    "    ys = []\n",
    "    etas = []\n",
    "    while eta < etaf:\n",
    "        # print(f'eta = {eta}')\n",
    "        tau0 = get_tangent(y, tau0)\n",
    "        y = multi_newton(Ftilda, Jtilda, y, args=(y, tau0, ds))\n",
    "        if y is None:\n",
    "            print(etas[-1])\n",
    "        ys.append(y[0])\n",
    "        etas.append(y[1])\n",
    "        eta = etas[-1]\n",
    "    return etas, ys"
   ]
  },
  {
   "cell_type": "code",
   "execution_count": 3,
   "metadata": {},
   "outputs": [
    {
     "name": "stdout",
     "output_type": "stream",
     "text": [
      "[[-0.63056267  1.        ]\n",
      " [-0.93478358 -0.35521776]]\n"
     ]
    },
    {
     "data": {
      "text/plain": [
       "array([-0.49797458, -0.07368962])"
      ]
     },
     "execution_count": 3,
     "metadata": {},
     "output_type": "execute_result"
    }
   ],
   "source": [
    "y0 = np.array([-0.4, -0.05])\n",
    "eta0, etaf = y0[1], -y0[1]\n",
    "direction = 1 if etaf > eta0 else -1\n",
    "tau0 = np.zeros_like(y0)\n",
    "tau0[-1] = -direction\n",
    "tau0 = get_tangent(y0, tau0)\n",
    "ds = 0.1\n",
    "\n",
    "print(Jtilda(y0 + ds * tau0, y0, tau0, ds))\n",
    "\n",
    "multi_newton(Ftilda, Jtilda, y0 + ds * tau0, args=(y0, tau0, ds))"
   ]
  },
  {
   "cell_type": "code",
   "execution_count": 4,
   "metadata": {},
   "outputs": [],
   "source": [
    "etas, ys = pseudo_arclength((eta0, etaf), y0)"
   ]
  },
  {
   "cell_type": "code",
   "execution_count": 5,
   "metadata": {},
   "outputs": [
    {
     "data": {
      "text/plain": [
       "[<matplotlib.lines.Line2D at 0x200bf0fbe50>]"
      ]
     },
     "execution_count": 5,
     "metadata": {},
     "output_type": "execute_result"
    }
   ],
   "source": [
    "%matplotlib qt\n",
    "plt.plot(etas, ys, '.')"
   ]
  },
  {
   "cell_type": "code",
   "execution_count": 6,
   "metadata": {},
   "outputs": [
    {
     "data": {
      "text/plain": [
       "[<matplotlib.lines.Line2D at 0x1d410ebc160>]"
      ]
     },
     "execution_count": 6,
     "metadata": {},
     "output_type": "execute_result"
    },
    {
     "data": {
      "image/png": "[encoded data removed]",
      "text/plain": [
       "<Figure size 640x480 with 1 Axes>"
      ]
     },
     "metadata": {},
     "output_type": "display_data"
    }
   ],
   "source": [
    "etas, xs = exact_solution()\n",
    "newt = np.zeros_like(etas)\n",
    "for k, eta in enumerate(etas):\n",
    "    newt[k] = scalar_newton(F, J, xs[k] + 0.01, eta=eta)\n",
    "plt.plot(etas, xs)\n",
    "plt.plot(etas, newt, 'r.')"
   ]
  },
  {
   "cell_type": "code",
   "execution_count": 18,
   "metadata": {},
   "outputs": [],
   "source": [
    "%matplotlib qt"
   ]
  },
  {
   "cell_type": "code",
   "execution_count": 9,
   "metadata": {},
   "outputs": [],
   "source": [
    "plt.plot(*exact_solution(), label='exact')\n",
    "etas_newt = np.linspace(-0.02, 0.02, 11)\n",
    "plt.plot(*pseudo_arclength((eta0, etaf), y0, ds=0.02), '.', label='pseudo-arclength',\n",
    "         color='tab:orange')\n",
    "plt.xlim(-0.025, 0.025)\n",
    "# plt.plot(etas_newt, natural_continuation(etas_newt, -0.4), '>', label='continuation forward')\n",
    "# plt.plot(etas_newt[::-1], natural_continuation(etas_newt[::-1], 0.4), '<', label='continuation backward')\n",
    "plt.legend()\n",
    "plt.show()"
   ]
  },
  {
   "cell_type": "code",
   "execution_count": null,
   "metadata": {},
   "outputs": [],
   "source": []
  }
 ],
 "metadata": {
  "kernelspec": {
   "display_name": "base",
   "language": "python",
   "name": "python3"
  },
  "language_info": {
   "codemirror_mode": {
    "name": "ipython",
    "version": 3
   },
   "file_extension": ".py",
   "mimetype": "text/x-python",
   "name": "python",
   "nbconvert_exporter": "python",
   "pygments_lexer": "ipython3",
   "version": "3.10.9"
  },
  "orig_nbformat": 4
 },
 "nbformat": 4,
 "nbformat_minor": 2
}
