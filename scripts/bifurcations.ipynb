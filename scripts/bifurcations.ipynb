{
 "cells": [
  {
   "cell_type": "code",
   "execution_count": 8,
   "metadata": {},
   "outputs": [],
   "source": [
    "import numpy as np\n",
    "import matplotlib.pyplot as plt\n",
    "import seaborn as sns"
   ]
  },
  {
   "cell_type": "code",
   "execution_count": 16,
   "metadata": {},
   "outputs": [],
   "source": [
    "colors = list(sns.color_palette(palette='magma'))"
   ]
  },
  {
   "cell_type": "code",
   "execution_count": 22,
   "metadata": {},
   "outputs": [],
   "source": [
    "%matplotlib qt\n",
    "colors = list(colors)\n",
    "def rhs(u, eta=0):\n",
    "    return eta - u * u\n",
    "\n",
    "# plot phase diag\n",
    "etas = [-0.3, 0.0, 0.3, 0.6, 0.9]\n",
    "u = np.linspace(-1, 1, 101)\n",
    "for k, eta in enumerate(etas):\n",
    "    plt.plot(u, rhs(u, eta=eta), label=fr'$\\eta = {eta}$', color=colors[k])\n",
    "\n",
    "xlims = plt.xlim()\n",
    "plt.hlines([0], *xlims, color='black', linestyle='dashed')\n",
    "plt.xlim(-1, 1)\n",
    "plt.legend()\n",
    "plt.show()"
   ]
  },
  {
   "cell_type": "code",
   "execution_count": null,
   "metadata": {},
   "outputs": [],
   "source": []
  }
 ],
 "metadata": {
  "kernelspec": {
   "display_name": "base",
   "language": "python",
   "name": "python3"
  },
  "language_info": {
   "codemirror_mode": {
    "name": "ipython",
    "version": 3
   },
   "file_extension": ".py",
   "mimetype": "text/x-python",
   "name": "python",
   "nbconvert_exporter": "python",
   "pygments_lexer": "ipython3",
   "version": "3.10.9"
  }
 },
 "nbformat": 4,
 "nbformat_minor": 2
}
