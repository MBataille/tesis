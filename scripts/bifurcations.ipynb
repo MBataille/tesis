{
 "cells": [
  {
   "cell_type": "code",
   "execution_count": 1,
   "metadata": {},
   "outputs": [],
   "source": [
    "import numpy as np\n",
    "import matplotlib.pyplot as plt\n",
    "import seaborn as sns"
   ]
  },
  {
   "cell_type": "code",
   "execution_count": 2,
   "metadata": {},
   "outputs": [],
   "source": [
    "colors = list(sns.color_palette(palette='magma'))"
   ]
  },
  {
   "cell_type": "code",
   "execution_count": 3,
   "metadata": {},
   "outputs": [],
   "source": [
    "%matplotlib qt\n",
    "colors = list(colors)\n",
    "def rhs(u, eta=0):\n",
    "    return eta - u * u\n",
    "\n",
    "def rhs_pitchfork(u, eta=0):\n",
    "    return eta * u - u ** 3\n",
    "\n",
    "# plot phase diag\n",
    "etas = [-0.3, 0.0, 0.3, 0.6, 0.9]\n",
    "u = np.linspace(-1, 1, 101)\n",
    "for k, eta in enumerate(etas):\n",
    "    plt.plot(u, rhs(u, eta=eta), label=fr'$\\eta = {eta}$', color=colors[k])\n",
    "\n",
    "xlims = plt.xlim()\n",
    "plt.hlines([0], *xlims, color='black', linestyle='dashed')\n",
    "plt.xlim(-1, 1)\n",
    "plt.legend()\n",
    "plt.show()"
   ]
  },
  {
   "cell_type": "code",
   "execution_count": 5,
   "metadata": {},
   "outputs": [],
   "source": [
    "etas = np.linspace(0, 1, 10001)\n",
    "etas_lines = [-0.3, 0.0, 0.3, 0.6, 0.9]\n",
    "# eta_plus = etas[etas > 0]\n",
    "u_plus = np.sqrt(etas)\n",
    "u_minus = -np.sqrt(etas)\n",
    "\n",
    "plt.plot(etas, u_plus, linestyle='solid', color='black')\n",
    "plt.plot(etas, u_minus, linestyle='dashed', color='black')\n",
    "plt.vlines(etas_lines, -1, 1, colors=colors, linestyles='dotted')\n",
    "plt.xlim(-0.5, 1)\n",
    "plt.xticks(etas_lines)\n",
    "plt.ylim(-1, 1)\n",
    "plt.show()"
   ]
  },
  {
   "cell_type": "code",
   "execution_count": 4,
   "metadata": {},
   "outputs": [],
   "source": [
    "%matplotlib qt\n",
    "colors = list(colors)\n",
    "\n",
    "def rhs_pitchfork(u, eta=0):\n",
    "    return eta * u - u ** 3\n",
    "\n",
    "# plot phase diag\n",
    "etas = [-0.3, 0.0, 0.3, 0.6, 0.9]\n",
    "u = np.linspace(-1, 1, 101)\n",
    "for k, eta in enumerate(etas):\n",
    "    plt.plot(u, rhs_pitchfork(u, eta=eta), label=fr'$\\eta = {eta}$', color=colors[k])\n",
    "    if eta > 0:\n",
    "        plt.plot([-np.sqrt(eta), np.sqrt(eta)], [0, 0], 'ko')\n",
    "plt.plot([0], [0], 'o', color='grey')\n",
    "\n",
    "xlims = plt.xlim()\n",
    "plt.hlines([0], *xlims, color='black', linestyle='dashed')\n",
    "plt.xlim(-1, 1)\n",
    "plt.ylim(-1, 1)\n",
    "plt.legend()\n",
    "plt.show()"
   ]
  },
  {
   "cell_type": "code",
   "execution_count": 13,
   "metadata": {},
   "outputs": [],
   "source": [
    "%matplotlib qt\n",
    "colors = list(colors)\n",
    "\n",
    "def rhs_pitchfork_subcritical(u, eta=0):\n",
    "    return eta * u + u ** 3 - u ** 5\n",
    "\n",
    "# plot phase diag\n",
    "u = np.linspace(-2, 2, 1001)\n",
    "etas = u ** 4 - u ** 2\n",
    "plt.plot(etas, u, linestyle='dashed')\n",
    "plt.plot([-1.0, 0.0], [0.0] * 2, color='black', linestyle='solid')\n",
    "plt.plot([0.0, 1.0], [0.0] * 2, color='black', linestyle='dashed')\n",
    "\n",
    "plt.ylim(-1.14, 1.14)\n",
    "plt.xlim(-0.4, 0.25)\n",
    "plt.show()"
   ]
  },
  {
   "cell_type": "code",
   "execution_count": 32,
   "metadata": {},
   "outputs": [],
   "source": [
    "etas_plus = np.linspace(0, 1, 10001)\n",
    "etas_minus = np.linspace(-0.5, 0, 100, endpoint=False)\n",
    "etas_lines = [-0.3, 0.0, 0.3, 0.6, 0.9]\n",
    "# eta_plus = etas[etas > 0]\n",
    "u_plus = np.sqrt(etas_plus)\n",
    "u_minus = -np.sqrt(etas_plus)\n",
    "plt.vlines(etas_lines, -1, 1, colors=colors, linestyles='dotted')\n",
    "plt.plot(etas_minus, np.zeros_like(etas_minus), linestyle='solid', color='black')\n",
    "plt.plot(etas_plus, np.zeros_like(etas_plus), linestyle='dashed', color='black')\n",
    "plt.plot(etas_plus, u_plus, linestyle='solid', color='black')\n",
    "plt.plot(etas_plus, u_minus, linestyle='solid', color='black')\n",
    "for eta in etas_lines:\n",
    "    if eta > 0:\n",
    "        plt.plot([eta, eta], [-np.sqrt(eta), np.sqrt(eta)], 'ko')\n",
    "        plt.plot([eta], [0], 'go')\n",
    "    elif eta < 0:\n",
    "        plt.plot([eta], [0], 'ko')\n",
    "plt.xlim(-0.5, 1)\n",
    "plt.xticks(etas_lines)\n",
    "plt.ylim(-1, 1)\n",
    "plt.show()"
   ]
  },
  {
   "cell_type": "code",
   "execution_count": 22,
   "metadata": {},
   "outputs": [],
   "source": [
    "fig, ax = plt.subplots(subplot_kw={'projection': '3d'})\n",
    "etas = np.array([-0.3, 0.0, 0.3, 0.6, 0.9])\n",
    "u = np.linspace(-1, 1, 101)\n",
    "plt.plot(np.zeros_like(etas), etas, zs=np.zeros_like(etas), linestyle='dashed')\n",
    "\n",
    "for k, eta in enumerate(etas):\n",
    "    plt.plot(u, [eta]*len(u), zs=rhs_pitchfork(u, eta=eta), zdir='z', label=fr'$\\eta = {eta}$', color=colors[k])\n"
   ]
  },
  {
   "cell_type": "code",
   "execution_count": 4,
   "metadata": {},
   "outputs": [
    {
     "data": {
      "text/plain": [
       "25.14"
      ]
     },
     "execution_count": 4,
     "metadata": {},
     "output_type": "execute_result"
    }
   ],
   "source": [
    "(17.750 - 10.360) + 17.750"
   ]
  },
  {
   "cell_type": "code",
   "execution_count": 24,
   "metadata": {},
   "outputs": [],
   "source": [
    "from scipy.integrate import solve_ivp"
   ]
  },
  {
   "cell_type": "code",
   "execution_count": 36,
   "metadata": {},
   "outputs": [],
   "source": [
    "def add_arrow(line, position=None, direction='right', size=15, color=None):\n",
    "    \"\"\"\n",
    "    add an arrow to a line.\n",
    "\n",
    "    line:       Line2D object\n",
    "    position:   x-position of the arrow. If None, mean of xdata is taken\n",
    "    direction:  'left' or 'right'\n",
    "    size:       size of the arrow in fontsize points\n",
    "    color:      if None, line color is taken.\n",
    "    \"\"\"\n",
    "    if color is None:\n",
    "        color = line.get_color()\n",
    "\n",
    "    xdata = line.get_xdata()\n",
    "    ydata = line.get_ydata()\n",
    "\n",
    "    if position is None:\n",
    "        position = xdata[len(xdata) // 2]\n",
    "    # find closest index\n",
    "    start_ind = np.argmin(np.absolute(xdata - position))\n",
    "    if direction == 'right':\n",
    "        end_ind = start_ind + 1\n",
    "    else:\n",
    "        end_ind = start_ind - 1\n",
    "\n",
    "    line.axes.annotate('',\n",
    "        xytext=(xdata[start_ind], ydata[start_ind]),\n",
    "        xy=(xdata[end_ind], ydata[end_ind]),\n",
    "        arrowprops=dict(arrowstyle=\"->\", color=color),\n",
    "        size=size\n",
    "    )\n"
   ]
  },
  {
   "cell_type": "code",
   "execution_count": 62,
   "metadata": {},
   "outputs": [],
   "source": [
    "colors = list(sns.color_palette('husl', n_colors=20))"
   ]
  },
  {
   "cell_type": "code",
   "execution_count": 81,
   "metadata": {},
   "outputs": [
    {
     "name": "stdout",
     "output_type": "stream",
     "text": [
      "[-1.  -0.6 -0.2  0.2  0.6  1. ]\n"
     ]
    },
    {
     "ename": "",
     "evalue": "",
     "output_type": "error",
     "traceback": [
      "\u001b[1;31mThe Kernel crashed while executing code in the current cell or a previous cell. \n",
      "\u001b[1;31mPlease review the code in the cell(s) to identify a possible cause of the failure. \n",
      "\u001b[1;31mClick <a href='https://aka.ms/vscodeJupyterKernelCrash'>here</a> for more info. \n",
      "\u001b[1;31mView Jupyter <a href='command:jupyter.viewOutput'>log</a> for further details."
     ]
    }
   ],
   "source": [
    "eta = -0.3\n",
    "omega = 1.0\n",
    "def rhs(t, A):\n",
    "    return [(eta + 1j * omega) * A - A * np.abs(A) ** 2]\n",
    "\n",
    "x = np.linspace(-1, 1, 6)\n",
    "print(x)\n",
    "thetas = np.linspace(0, 2*np.pi, 101, endpoint=True)\n",
    "y = x\n",
    "X, Y = np.meshgrid(x, y)\n",
    "# dA = rhs(X + 1j * Y)\n",
    "fig, ax = plt.subplots(figsize=(5, 5))\n",
    "# plt.streamplot(X, Y, dA.real, dA.imag, density=1.0)\n",
    "ts = np.linspace(0, 10, 101)\n",
    "k = 0\n",
    "for xi in x:\n",
    "    for yi in y:\n",
    "        sol = solve_ivp(rhs, (ts[0], ts[-1]), [xi + 1j * yi], t_eval=ts).y\n",
    "        line, = plt.plot(sol[0].real, sol[0].imag, color=colors[k % len(colors)])\n",
    "        add_arrow(line, position=sol[0, 5].real, direction='right')\n",
    "        k += 1\n",
    "# if eta > 0:\n",
    "#     plt.plot(np.sqrt(eta) * np.cos(thetas),  np.sqrt(eta) * np.sin(thetas), 'k')\n",
    "plt.axis('equal')\n",
    "plt.xlim(-1, 1) \n",
    "plt.ylim(-1, 1)\n",
    "plt.show()"
   ]
  },
  {
   "cell_type": "code",
   "execution_count": null,
   "metadata": {},
   "outputs": [],
   "source": []
  }
 ],
 "metadata": {
  "kernelspec": {
   "display_name": "base",
   "language": "python",
   "name": "python3"
  },
  "language_info": {
   "codemirror_mode": {
    "name": "ipython",
    "version": 3
   },
   "file_extension": ".py",
   "mimetype": "text/x-python",
   "name": "python",
   "nbconvert_exporter": "python",
   "pygments_lexer": "ipython3",
   "version": "3.9.7"
  }
 },
 "nbformat": 4,
 "nbformat_minor": 2
}
