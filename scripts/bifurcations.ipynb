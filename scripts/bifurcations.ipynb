{
 "cells": [
  {
   "cell_type": "code",
   "execution_count": 1,
   "metadata": {},
   "outputs": [],
   "source": [
    "import numpy as np\n",
    "import matplotlib.pyplot as plt\n",
    "import seaborn as sns"
   ]
  },
  {
   "cell_type": "code",
   "execution_count": 2,
   "metadata": {},
   "outputs": [],
   "source": [
    "colors = list(sns.color_palette(palette='magma'))"
   ]
  },
  {
   "cell_type": "code",
   "execution_count": 4,
   "metadata": {},
   "outputs": [],
   "source": [
    "%matplotlib qt\n",
    "colors = list(colors)\n",
    "def rhs(u, eta=0):\n",
    "    return eta - u * u\n",
    "\n",
    "def rhs_pitchfork(u, eta=0):\n",
    "    return eta * u - u ** 3\n",
    "\n",
    "# plot phase diag\n",
    "etas = [-0.3, 0.0, 0.3, 0.6, 0.9]\n",
    "u = np.linspace(-1, 1, 101)\n",
    "for k, eta in enumerate(etas):\n",
    "    plt.plot(u, rhs(u, eta=eta), label=fr'$\\eta = {eta}$', color=colors[k])\n",
    "\n",
    "xlims = plt.xlim()\n",
    "plt.hlines([0], *xlims, color='black', linestyle='dashed')\n",
    "plt.xlim(-1, 1)\n",
    "plt.legend()\n",
    "plt.show()"
   ]
  },
  {
   "cell_type": "code",
   "execution_count": 21,
   "metadata": {},
   "outputs": [],
   "source": [
    "etas = np.linspace(0, 1, 10001)\n",
    "etas_lines = [-0.3, 0.0, 0.3, 0.6, 0.9]\n",
    "# eta_plus = etas[etas > 0]\n",
    "u_plus = np.sqrt(etas)\n",
    "u_minus = -np.sqrt(etas)\n",
    "\n",
    "plt.plot(etas, u_plus, linestyle='solid', color='black')\n",
    "plt.plot(etas, u_minus, linestyle='dashed', color='black')\n",
    "plt.vlines(etas_lines, -1, 1, colors=colors, linestyles='dotted')\n",
    "plt.xlim(-0.5, 1)\n",
    "plt.xticks(etas_lines)\n",
    "plt.ylim(-1, 1)\n",
    "plt.show()"
   ]
  },
  {
   "cell_type": "code",
   "execution_count": 27,
   "metadata": {},
   "outputs": [],
   "source": [
    "%matplotlib qt\n",
    "colors = list(colors)\n",
    "\n",
    "def rhs_pitchfork(u, eta=0):\n",
    "    return eta * u - u ** 3\n",
    "\n",
    "# plot phase diag\n",
    "etas = [-0.3, 0.0, 0.3, 0.6, 0.9]\n",
    "u = np.linspace(-1, 1, 101)\n",
    "for k, eta in enumerate(etas):\n",
    "    plt.plot(u, rhs_pitchfork(u, eta=eta), label=fr'$\\eta = {eta}$', color=colors[k])\n",
    "    if eta > 0:\n",
    "        plt.plot([-np.sqrt(eta), np.sqrt(eta)], [0, 0], 'ko')\n",
    "plt.plot([0], [0], 'o', color='grey')\n",
    "\n",
    "xlims = plt.xlim()\n",
    "plt.hlines([0], *xlims, color='black', linestyle='dashed')\n",
    "plt.xlim(-1, 1)\n",
    "plt.ylim(-1, 1)\n",
    "plt.legend()\n",
    "plt.show()"
   ]
  },
  {
   "cell_type": "code",
   "execution_count": 32,
   "metadata": {},
   "outputs": [],
   "source": [
    "etas_plus = np.linspace(0, 1, 10001)\n",
    "etas_minus = np.linspace(-0.5, 0, 100, endpoint=False)\n",
    "etas_lines = [-0.3, 0.0, 0.3, 0.6, 0.9]\n",
    "# eta_plus = etas[etas > 0]\n",
    "u_plus = np.sqrt(etas_plus)\n",
    "u_minus = -np.sqrt(etas_plus)\n",
    "plt.vlines(etas_lines, -1, 1, colors=colors, linestyles='dotted')\n",
    "plt.plot(etas_minus, np.zeros_like(etas_minus), linestyle='solid', color='black')\n",
    "plt.plot(etas_plus, np.zeros_like(etas_plus), linestyle='dashed', color='black')\n",
    "plt.plot(etas_plus, u_plus, linestyle='solid', color='black')\n",
    "plt.plot(etas_plus, u_minus, linestyle='solid', color='black')\n",
    "for eta in etas_lines:\n",
    "    if eta > 0:\n",
    "        plt.plot([eta, eta], [-np.sqrt(eta), np.sqrt(eta)], 'ko')\n",
    "        plt.plot([eta], [0], 'go')\n",
    "    elif eta < 0:\n",
    "        plt.plot([eta], [0], 'ko')\n",
    "plt.xlim(-0.5, 1)\n",
    "plt.xticks(etas_lines)\n",
    "plt.ylim(-1, 1)\n",
    "plt.show()"
   ]
  },
  {
   "cell_type": "code",
   "execution_count": 22,
   "metadata": {},
   "outputs": [],
   "source": [
    "fig, ax = plt.subplots(subplot_kw={'projection': '3d'})\n",
    "etas = np.array([-0.3, 0.0, 0.3, 0.6, 0.9])\n",
    "u = np.linspace(-1, 1, 101)\n",
    "plt.plot(np.zeros_like(etas), etas, zs=np.zeros_like(etas), linestyle='dashed')\n",
    "\n",
    "for k, eta in enumerate(etas):\n",
    "    plt.plot(u, [eta]*len(u), zs=rhs_pitchfork(u, eta=eta), zdir='z', label=fr'$\\eta = {eta}$', color=colors[k])\n"
   ]
  },
  {
   "cell_type": "code",
   "execution_count": 4,
   "metadata": {},
   "outputs": [
    {
     "data": {
      "text/plain": [
       "25.14"
      ]
     },
     "execution_count": 4,
     "metadata": {},
     "output_type": "execute_result"
    }
   ],
   "source": [
    "(17.750 - 10.360) + 17.750"
   ]
  },
  {
   "cell_type": "code",
   "execution_count": null,
   "metadata": {},
   "outputs": [],
   "source": []
  }
 ],
 "metadata": {
  "kernelspec": {
   "display_name": "base",
   "language": "python",
   "name": "python3"
  },
  "language_info": {
   "codemirror_mode": {
    "name": "ipython",
    "version": 3
   },
   "file_extension": ".py",
   "mimetype": "text/x-python",
   "name": "python",
   "nbconvert_exporter": "python",
   "pygments_lexer": "ipython3",
   "version": "3.9.7"
  }
 },
 "nbformat": 4,
 "nbformat_minor": 2
}
